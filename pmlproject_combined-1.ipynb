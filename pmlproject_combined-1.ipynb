{
 "cells": [
  {
   "cell_type": "code",
   "execution_count": 11,
   "metadata": {},
   "outputs": [],
   "source": [
    "import numpy as np\n",
    "import pandas as pd\n",
    "import matplotlib.pyplot as plt\n",
    "from collections import Counter\n",
    "from sklearn.model_selection import train_test_split\n",
    "from sklearn.preprocessing import StandardScaler\n",
    "from sklearn.metrics import accuracy_score, confusion_matrix, classification_report, ConfusionMatrixDisplay\n",
    "\n",
    "# Importing the dataset\n",
    "df = pd.read_excel('HR.xlsx', index_col=0)\n",
    "\n",
    "df.head()\n",
    "\n",
    "# Preprocessing the dataset\n",
    "\n",
    "# Splitting the dataset into X and y\n",
    "X = df.drop(['salary'],axis=1)\n",
    "y = df['salary']\n",
    "\n",
    "# Replace high medium low in salary with numbers\n",
    "y = y.replace(['high','medium','low'],[3,2,1])          # EMTREMELY IMPORTANT caused a lot of issues when left as strings\n",
    "\n",
    "# Converting the categorical variables into dummy variables\n",
    "X = pd.get_dummies(X, drop_first=True)\n",
    "\n",
    "# Splitting the dataset into train and test sets\n",
    "X_train, X_test, y_train, y_test = train_test_split(X, y, test_size=0.3, random_state=0)\n",
    "\n",
    "# Feature Scaling\n",
    "sc = StandardScaler()\n",
    "X_train = sc.fit_transform(X_train)\n",
    "X_test = sc.transform(X_test)\n"
   ]
  },
  {
   "attachments": {},
   "cell_type": "markdown",
   "metadata": {},
   "source": [
    "## Logistic Regression from Scratch"
   ]
  },
  {
   "cell_type": "code",
   "execution_count": 77,
   "metadata": {},
   "outputs": [],
   "source": [
    "# Making Logistic Regression Model from Scratch\n",
    "\n",
    "class LogisticRegression:\n",
    "    \n",
    "    def __init__(self, lr=0.001, n_iters=1000):\n",
    "        self.lr = lr # learning rate\n",
    "        self.n_iters = n_iters # number of iterations\n",
    "        self.weights = None\n",
    "        self.bias = None\n",
    "        \n",
    "    def fit(self, X, y):\n",
    "        # init parameters\n",
    "        n_samples, n_features = X.shape\n",
    "        self.weights = np.zeros(n_features)\n",
    "        self.bias = 0\n",
    "        \n",
    "        # Gradient Descent\n",
    "        for _ in range(self.n_iters):\n",
    "            linear_model = np.dot(X, self.weights) + self.bias\n",
    "            y_predicted = self._sigmoid(linear_model)\n",
    "\n",
    "            # Gradient \n",
    "            dw = np.multiply((1 / n_samples), np.dot(X.T, (y_predicted - y)))  \n",
    "            db = np.multiply((1 / n_samples), np.sum(y_predicted - y))\n",
    "            \n",
    "            # Update parameters\n",
    "            self.weights -= self.lr * dw\n",
    "            self.bias -= self.lr * db\n",
    "            \n",
    "    def predict(self, X):\n",
    "        linear_model = np.dot(X, self.weights) + self.bias\n",
    "        y_predicted = self._sigmoid(linear_model)\n",
    "        y_predicted_cls = [1 if i > 0.5 else 0 for i in y_predicted]\n",
    "        return y_predicted_cls\n",
    "    \n",
    "    def _sigmoid(self, x):\n",
    "        return 1 / (1 + np.exp(-x))"
   ]
  },
  {
   "cell_type": "code",
   "execution_count": 78,
   "metadata": {},
   "outputs": [],
   "source": [
    "# Take the dataset and remove all the rows with salary = medium\n",
    "# This is to make it a binary classification problem\n",
    "\n",
    "df1 = df[df['salary'] != 'medium']\n",
    "\n",
    "X1 = df1.drop(['salary'],axis=1)\n",
    "y1 = df1['salary']\n",
    "\n",
    "y1 = y1.replace(['high','low'],[0,1])\n",
    "\n",
    "X1 = pd.get_dummies(X1, drop_first=True)\n",
    "\n",
    "X_train1, X_test1, y_train1, y_test1 = train_test_split(X1, y1, test_size=0.3, random_state=42)\n",
    "\n",
    "sc = StandardScaler()\n",
    "X_train1 = sc.fit_transform(X_train1)\n",
    "X_test1 = sc.transform(X_test1)"
   ]
  },
  {
   "cell_type": "code",
   "execution_count": 79,
   "metadata": {},
   "outputs": [],
   "source": [
    "# Training the model\n",
    "model = LogisticRegression(lr=0.01, n_iters=2000)\n",
    "model.fit(X_train1, y_train1)\n",
    "\n",
    "# Predicting the test set results\n",
    "y_pred1 = model.predict(X_test1)\n"
   ]
  },
  {
   "cell_type": "code",
   "execution_count": 81,
   "metadata": {},
   "outputs": [
    {
     "name": "stdout",
     "output_type": "stream",
     "text": [
      "Accuracy:  86.74980514419329 %\n"
     ]
    },
    {
     "data": {
      "image/png": "[encoded data removed]",
      "text/plain": [
       "<Figure size 640x480 with 2 Axes>"
      ]
     },
     "metadata": {},
     "output_type": "display_data"
    }
   ],
   "source": [
    "# Making the confusion matrix\n",
    "cm = confusion_matrix(y_test1, y_pred1)\n",
    "ConfusionMatrixDisplay(confusion_matrix=cm, display_labels=['high','low']).plot()\n",
    "\n",
    "# Calculating the accuracy\n",
    "score = accuracy_score(y_test1, y_pred1)\n",
    "print(\"Accuracy: \",score*100,'%')"
   ]
  },
  {
   "attachments": {},
   "cell_type": "markdown",
   "metadata": {},
   "source": [
    "---"
   ]
  },
  {
   "attachments": {},
   "cell_type": "markdown",
   "metadata": {},
   "source": [
    "## KNN from Scratch"
   ]
  },
  {
   "cell_type": "code",
   "execution_count": 6,
   "metadata": {},
   "outputs": [],
   "source": [
    "'''# Making KNN Model from Scratch\n",
    "\n",
    "def euclidean_distance(x1, x2):\n",
    "    distance = np.sqrt(np.sum((x1-x2)**2))\n",
    "    return distance\n",
    "\n",
    "class KNN:\n",
    "    def __init__(self, k=3):\n",
    "        self.k = k\n",
    "\n",
    "    def fit(self, X, y):\n",
    "       # self.X_train = X\n",
    "       # self.y_train = y\n",
    "        self.X_train=np.array(X)\n",
    "        self.y_train=np.array(y).reshape(-1)\n",
    "\n",
    "    def predict(self, X):\n",
    "        X=np.array(X)\n",
    "        predictions = [self._predict(x) for x in X]\n",
    "        return predictions\n",
    "\n",
    "    def _predict(self, x):\n",
    "        # compute the distance\n",
    "        distances = [euclidean_distance(x, x_train) for x_train in self.X_train]\n",
    "    \n",
    "        # get the closest k\n",
    "        k_indices = np.argsort(distances)[:self.k]\n",
    "        k_nearest_labels = [self.y_train[i] for i in k_indices]\n",
    "\n",
    "        # majority vote\n",
    "        most_common = Counter(k_nearest_labels).most_common(1)\n",
    "        return most_common[0][0]'''"
   ]
  },
  {
   "cell_type": "code",
   "execution_count": 82,
   "metadata": {},
   "outputs": [
    {
     "name": "stdout",
     "output_type": "stream",
     "text": [
      "[1 2 3]\n",
      "[[1307  795   96]\n",
      " [ 832  975  117]\n",
      " [ 145  149   84]]\n"
     ]
    },
    {
     "data": {
      "text/plain": [
       "0.5257777777777778"
      ]
     },
     "execution_count": 82,
     "metadata": {},
     "output_type": "execute_result"
    }
   ],
   "source": [
    "'''# Training the model\n",
    "model2 = KNN(k=3)\n",
    "model2.fit(X_train, y_train)\n",
    "\n",
    "# Predicting the test set results\n",
    "y_pred = model2.predict(X_test)\n",
    "# print unique values in y_pred\n",
    "print(np.unique(y_pred))\n",
    "\n",
    "# Making the confusion matrix\n",
    "from sklearn.metrics import confusion_matrix\n",
    "cm = confusion_matrix(y_test, y_pred)\n",
    "print(cm)\n",
    "\n",
    "# Calculating the accuracy\n",
    "from sklearn.metrics import accuracy_score\n",
    "accuracy_score(y_test, y_pred)'''\n"
   ]
  },
  {
   "attachments": {},
   "cell_type": "markdown",
   "metadata": {},
   "source": [
    "---"
   ]
  },
  {
   "attachments": {},
   "cell_type": "markdown",
   "metadata": {},
   "source": [
    "## SVM from Scratch"
   ]
  },
  {
   "cell_type": "code",
   "execution_count": 84,
   "metadata": {},
   "outputs": [],
   "source": [
    "# Making SVM Model from Scratch\n",
    "\n",
    "class SVM:\n",
    "    def __init__(self, learning_rate=0.001, lambda_param=0.01, n_iters=1000):\n",
    "        self.lr = learning_rate\n",
    "        self.lambda_param = lambda_param\n",
    "        self.n_iters = n_iters\n",
    "        self.w = None\n",
    "        self.b = None\n",
    "        \n",
    "    def fit(self, X, y):\n",
    "        n_samples, n_features = X.shape\n",
    "        \n",
    "        y_ = np.where(y <= 0, -1, 1)\n",
    "        \n",
    "        self.w = np.zeros(n_features)\n",
    "        self.b = 0\n",
    "        \n",
    "        for _ in range(self.n_iters):\n",
    "            for idx, x_i in enumerate(X):\n",
    "                condition = y_[idx] * (np.dot(x_i, self.w) - self.b) >= 1\n",
    "                if condition:\n",
    "                    self.w -= self.lr * (2 * self.lambda_param * self.w)\n",
    "                else:\n",
    "                    self.w -= self.lr * (2 * self.lambda_param * self.w - np.dot(x_i, y_[idx]))\n",
    "                    self.b -= self.lr * y_[idx]\n",
    "                    \n",
    "    def predict(self, X):\n",
    "        approx = np.dot(X, self.w) - self.b\n",
    "        return np.sign(approx)"
   ]
  },
  {
   "cell_type": "code",
   "execution_count": 85,
   "metadata": {},
   "outputs": [
    {
     "name": "stdout",
     "output_type": "stream",
     "text": [
      "[1.]\n",
      "[[2198    0    0]\n",
      " [1924    0    0]\n",
      " [ 378    0    0]]\n"
     ]
    },
    {
     "data": {
      "text/plain": [
       "0.48844444444444446"
      ]
     },
     "execution_count": 85,
     "metadata": {},
     "output_type": "execute_result"
    }
   ],
   "source": [
    "# Training the model\n",
    "classifier = SVM()\n",
    "classifier.fit(X_train, y_train)\n",
    "\n",
    "# Predicting the test set results\n",
    "y_pred = classifier.predict(X_test)\n",
    "# print unique values in y_pred\n",
    "print(np.unique(y_pred))\n",
    "\n",
    "# Making the confusion matrix\n",
    "from sklearn.metrics import confusion_matrix\n",
    "cm = confusion_matrix(y_test, y_pred)\n",
    "print(cm)\n",
    "\n",
    "# Calculating the accuracy\n",
    "from sklearn.metrics import accuracy_score\n",
    "accuracy_score(y_test, y_pred)\n"
   ]
  }
 ],
 "metadata": {
  "kernelspec": {
   "display_name": "Python 3",
   "language": "python",
   "name": "python3"
  },
  "language_info": {
   "codemirror_mode": {
    "name": "ipython",
    "version": 3
   },
   "file_extension": ".py",
   "mimetype": "text/x-python",
   "name": "python",
   "nbconvert_exporter": "python",
   "pygments_lexer": "ipython3",
   "version": "3.10.2 (tags/v3.10.2:a58ebcc, Jan 17 2022, 14:12:15) [MSC v.1929 64 bit (AMD64)]"
  },
  "orig_nbformat": 4,
  "vscode": {
   "interpreter": {
    "hash": "a25acb2a86ced98b4fb440f4b185c22e2b5fd167cf64ec7ca081610b8a3abc28"
   }
  }
 },
 "nbformat": 4,
 "nbformat_minor": 2
}
